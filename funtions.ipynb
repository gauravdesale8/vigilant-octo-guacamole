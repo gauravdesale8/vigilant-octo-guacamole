{
 "cells": [
  {
   "attachments": {},
   "cell_type": "markdown",
   "metadata": {},
   "source": [
    "Printing 3 times"
   ]
  },
  {
   "cell_type": "code",
   "execution_count": 1,
   "metadata": {},
   "outputs": [
    {
     "name": "stdout",
     "output_type": "stream",
     "text": [
      "Welcome to my youtube channel\n",
      "Welcome to my youtube channel\n",
      "Welcome to my youtube channel\n"
     ]
    }
   ],
   "source": [
    "print('Welcome to my youtube channel')\n",
    "print('Welcome to my youtube channel')\n",
    "print('Welcome to my youtube channel')"
   ]
  },
  {
   "attachments": {},
   "cell_type": "markdown",
   "metadata": {},
   "source": [
    "Printing 3 times using function"
   ]
  },
  {
   "cell_type": "code",
   "execution_count": 2,
   "metadata": {},
   "outputs": [
    {
     "name": "stdout",
     "output_type": "stream",
     "text": [
      "Welcome to my youtube channel\n",
      "Welcome to my youtube channel\n",
      "Welcome to my youtube channel\n"
     ]
    }
   ],
   "source": [
    "def welcome():\n",
    "    print('Welcome to my youtube channel')\n",
    "\n",
    "welcome()\n",
    "welcome()\n",
    "welcome()"
   ]
  },
  {
   "attachments": {},
   "cell_type": "markdown",
   "metadata": {},
   "source": [
    "Printing 3 times using function as a string"
   ]
  },
  {
   "cell_type": "code",
   "execution_count": 3,
   "metadata": {},
   "outputs": [
    {
     "data": {
      "text/plain": [
       "'Welcome to my youtube channel'"
      ]
     },
     "execution_count": 3,
     "metadata": {},
     "output_type": "execute_result"
    }
   ],
   "source": [
    "def welcome():\n",
    "    return \"Welcome to my youtube channel\"\n",
    "\n",
    "welcome()\n",
    "welcome()\n",
    "welcome()"
   ]
  },
  {
   "cell_type": "code",
   "execution_count": 4,
   "metadata": {},
   "outputs": [
    {
     "name": "stdout",
     "output_type": "stream",
     "text": [
      "Welcome to my youtube channel\n",
      "Welcome to my youtube channel\n",
      "Welcome to my youtube channel\n"
     ]
    }
   ],
   "source": [
    "def welcome():\n",
    "    return 'Welcome to my youtube channel'\n",
    "\n",
    "print(welcome())\n",
    "print(welcome())\n",
    "print(welcome())"
   ]
  },
  {
   "cell_type": "code",
   "execution_count": 5,
   "metadata": {},
   "outputs": [
    {
     "name": "stdout",
     "output_type": "stream",
     "text": [
      "Welcome to my youtube channel\n"
     ]
    }
   ],
   "source": [
    "def welcome():\n",
    "    return 'Welcome to my youtube channel'\n",
    "\n",
    "msg = welcome()\n",
    "print(msg)"
   ]
  },
  {
   "cell_type": "code",
   "execution_count": 6,
   "metadata": {},
   "outputs": [
    {
     "name": "stdout",
     "output_type": "stream",
     "text": [
      "Welcome to my youtube channel Please subscribe\n"
     ]
    }
   ],
   "source": [
    "# adding Line\n",
    "def welcome():\n",
    "    return \"Welcome to my youtube channel\"\n",
    "\n",
    "msg = welcome()\n",
    "print(msg + ' Please subscribe')\n"
   ]
  },
  {
   "attachments": {},
   "cell_type": "markdown",
   "metadata": {},
   "source": [
    "Adding description to the function"
   ]
  },
  {
   "cell_type": "code",
   "execution_count": 7,
   "metadata": {},
   "outputs": [
    {
     "name": "stdout",
     "output_type": "stream",
     "text": [
      "Welcome to my youtube channel\n"
     ]
    }
   ],
   "source": [
    "def welcome():\n",
    "    \"\"\"\n",
    "    Description: This function will show a welcome message\n",
    "\n",
    "    Return: This fucntion will return the welcome message\n",
    "    \n",
    "    \"\"\"\n",
    "    return \"Welcome to my youtube channel\"\n",
    "\n",
    "msg=welcome()\n",
    "print(msg)"
   ]
  },
  {
   "cell_type": "code",
   "execution_count": 9,
   "metadata": {},
   "outputs": [
    {
     "name": "stdout",
     "output_type": "stream",
     "text": [
      "Welcome to my youtube channel Please Subscibe\n"
     ]
    }
   ],
   "source": [
    "def welcome() -> str:\n",
    "    \"\"\"\n",
    "    Description: This function will show a welcome message\n",
    "\n",
    "    Return: This function will return the welcome message\n",
    "    \n",
    "    \"\"\"\n",
    "    return \"Welcome to my youtube channel\"\n",
    "\n",
    "msg = welcome()\n",
    "print(msg+\" Please Subscibe\")"
   ]
  },
  {
   "attachments": {},
   "cell_type": "markdown",
   "metadata": {},
   "source": [
    "Adding parameters"
   ]
  },
  {
   "cell_type": "code",
   "execution_count": 10,
   "metadata": {},
   "outputs": [
    {
     "name": "stdout",
     "output_type": "stream",
     "text": [
      "welcome all Please Subscribe\n"
     ]
    }
   ],
   "source": [
    "def welcome(msg)->str:\n",
    "    \"\"\"\n",
    "    Description: This function will show a welcome message\n",
    "\n",
    "    Return: This function will return the welcome message\n",
    "    \n",
    "    \"\"\"\n",
    "    return msg\n",
    "\n",
    "msg = welcome(\"welcome all\") \n",
    "print(msg + \" Please Subscribe\")\n"
   ]
  },
  {
   "attachments": {},
   "cell_type": "markdown",
   "metadata": {},
   "source": [
    "Even and odd"
   ]
  },
  {
   "cell_type": "code",
   "execution_count": 15,
   "metadata": {},
   "outputs": [
    {
     "name": "stdout",
     "output_type": "stream",
     "text": [
      "14 8\n"
     ]
    }
   ],
   "source": [
    "def even_odd_sum(lst):\n",
    "    \"\"\"\n",
    "    Description: This function will add even and odd number in a list\n",
    "    Return: This function will return the sum of even and odd number in list\n",
    "    \"\"\"\n",
    "    even_sum=0\n",
    "    odd_sum=0\n",
    "    for i in lst:\n",
    "        if i%2==0:\n",
    "            even_sum+=i\n",
    "        else:\n",
    "            odd_sum+=i\n",
    "    return even_sum, odd_sum\n",
    "\n",
    "sum1,sum2=even_odd_sum([5,6,8,3])\n",
    "print(sum1,sum2)\n"
   ]
  }
 ],
 "metadata": {
  "kernelspec": {
   "display_name": "Python 3",
   "language": "python",
   "name": "python3"
  },
  "language_info": {
   "codemirror_mode": {
    "name": "ipython",
    "version": 3
   },
   "file_extension": ".py",
   "mimetype": "text/x-python",
   "name": "python",
   "nbconvert_exporter": "python",
   "pygments_lexer": "ipython3",
   "version": "3.11.2"
  },
  "orig_nbformat": 4
 },
 "nbformat": 4,
 "nbformat_minor": 2
}
