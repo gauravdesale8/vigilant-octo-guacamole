{
 "cells": [
  {
   "attachments": {},
   "cell_type": "markdown",
   "metadata": {},
   "source": [
    "Position Argument"
   ]
  },
  {
   "cell_type": "code",
   "execution_count": 15,
   "metadata": {},
   "outputs": [
    {
     "name": "stdout",
     "output_type": "stream",
     "text": [
      "Hello Peter you are 23 years old\n"
     ]
    }
   ],
   "source": [
    "def hello(name,age):\n",
    "    print(\"Hello \" + name + \" you are \" + str(age) + \" years old\")\n",
    "\n",
    "hello(\"Peter\",23)\n"
   ]
  },
  {
   "attachments": {},
   "cell_type": "markdown",
   "metadata": {},
   "source": [
    "Keyword Argument"
   ]
  },
  {
   "cell_type": "code",
   "execution_count": 12,
   "metadata": {},
   "outputs": [
    {
     "name": "stdout",
     "output_type": "stream",
     "text": [
      "Hello Peter you are 23 years old\n"
     ]
    }
   ],
   "source": [
    "def hello(name,age=23):\n",
    "    print(\"Hello \" + name + \" you are \" + str(age) + \" years old\")\n",
    "\n",
    "hello(\"Peter\")"
   ]
  },
  {
   "cell_type": "code",
   "execution_count": 13,
   "metadata": {},
   "outputs": [
    {
     "name": "stdout",
     "output_type": "stream",
     "text": [
      "Hello Peter you are 25 years old\n"
     ]
    }
   ],
   "source": [
    "def hello(name,age=23):\n",
    "    print(\"Hello \" + name + \" you are \" + str(age) + \" years old\")\n",
    "\n",
    "hello(\"Peter\",25)"
   ]
  },
  {
   "cell_type": "code",
   "execution_count": 14,
   "metadata": {},
   "outputs": [
    {
     "name": "stdout",
     "output_type": "stream",
     "text": [
      "('Peter', 'Parker')\n",
      "{'age': 23, 'dob': 2000}\n"
     ]
    }
   ],
   "source": [
    "# args and kwargs\n",
    "def hello(*args,**kwargs):\n",
    "    print(args)\n",
    "    print(kwargs)\n",
    "\n",
    "hello(\"Peter\",\"Parker\",age=23,dob=2000)"
   ]
  },
  {
   "cell_type": "code",
   "execution_count": 17,
   "metadata": {},
   "outputs": [
    {
     "name": "stdout",
     "output_type": "stream",
     "text": [
      "(['Peter', 'Parker'], {'age': 23, 'dob': 2000})\n",
      "{}\n"
     ]
    }
   ],
   "source": [
    "def hello(*args,**kwargs):\n",
    "    print(args)\n",
    "    print(kwargs)\n",
    "\n",
    "lst = list(('Peter', 'Parker'))\n",
    "dict_val = {'age': 23, 'dob': 2000}\n",
    "\n",
    "hello(lst,dict_val)"
   ]
  },
  {
   "cell_type": "code",
   "execution_count": 18,
   "metadata": {},
   "outputs": [
    {
     "name": "stdout",
     "output_type": "stream",
     "text": [
      "('Peter', 'Parker')\n",
      "{'age': 23, 'dob': 2000}\n"
     ]
    }
   ],
   "source": [
    "def hello(*args,**kwargs):\n",
    "    print(args)\n",
    "    print(kwargs)\n",
    "\n",
    "lst = list(('Peter', 'Parker'))\n",
    "dict_val = {'age': 23, 'dob': 2000}\n",
    "\n",
    "hello(*lst,**dict_val)"
   ]
  }
 ],
 "metadata": {
  "kernelspec": {
   "display_name": "Python 3",
   "language": "python",
   "name": "python3"
  },
  "language_info": {
   "codemirror_mode": {
    "name": "ipython",
    "version": 3
   },
   "file_extension": ".py",
   "mimetype": "text/x-python",
   "name": "python",
   "nbconvert_exporter": "python",
   "pygments_lexer": "ipython3",
   "version": "3.11.2"
  },
  "orig_nbformat": 4
 },
 "nbformat": 4,
 "nbformat_minor": 2
}
